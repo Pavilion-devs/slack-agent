{
 "cells": [
  {
   "cell_type": "markdown",
   "id": "72d7035f519e7498",
   "metadata": {},
   "source": [
    "# Data Loading\n",
    "Data Loading in langchain is the process of loading data from various sources like files, databases, web pages, etc. The data is loaded into a Document object which is a part of the langchain library. The Document object contains the text content of the data and metadata like the source URL, title, etc. The Document object is then used for further processing like text analysis, summarization, etc.\n",
    "\n",
    "Source: https://python.langchain.com/docs/integrations/document_loaders"
   ]
  },
  {
   "cell_type": "code",
   "execution_count": 2,
   "id": "be594d2f",
   "metadata": {},
   "outputs": [
    {
     "name": "stdout",
     "output_type": "stream",
     "text": [
      "page_content='Lorem ipsum dolor sit amet, consectetur adipiscing elit. Fusce augue ex, vulputate ac nibh in, venenatis imperdiet ante. Nulla ut accumsan nibh. Sed enim mi, eleifend sit amet tellus et, tempor congue risus. In consequat, purus congue mollis posuere, urna ex scelerisque lorem, sit amet commodo purus arcu ut lacus. Nullam sed porttitor velit, sit amet placerat mauris. Sed et convallis dui, nec ornare ante. Vestibulum dolor justo, commodo vel sapien ut, ultricies tristique magna. Pellentesque tortor sem, commodo nec finibus at, tincidunt a ipsum. Praesent turpis sem, tempor ut ex non, gravida commodo nunc. Duis leo orci, laoreet eu ultrices nec, auctor at magna.\n",
      "\n",
      "Interdum et malesuada fames ac ante ipsum primis in faucibus. Nam ultrices sed mi ut maximus. Praesent tincidunt semper mauris. Aenean varius neque nulla. Orci varius natoque penatibus et magnis dis parturient montes, nascetur ridiculus mus. Sed ac bibendum odio. Cras ipsum velit, aliquet vel elit at, placerat euismod diam. Quisque tempor finibus eros, vel viverra mi venenatis vitae.\n",
      "\n",
      "Mauris turpis velit, fringilla at neque in, aliquet dapibus est. Nam luctus eget massa eu venenatis. Morbi pellentesque magna sed sodales varius. Nulla facilisi. Proin porttitor sed felis ac molestie. Sed lectus orci, dapibus vitae neque ut, euismod ornare urna. Duis non sagittis justo, vel commodo nibh. Proin ac elementum lorem, et finibus turpis.\n",
      "\n",
      "Donec et ipsum imperdiet, sollicitudin arcu consectetur, hendrerit risus. Nunc vitae ligula vitae nibh malesuada malesuada. Curabitur a magna urna. Nullam consequat sagittis velit nec porta. Nulla eget arcu euismod ipsum faucibus convallis eget id est. Curabitur et leo in nisi blandit pretium. Pellentesque ullamcorper finibus vehicula. Fusce ut nisi at odio laoreet egestas. Vivamus rhoncus egestas egestas. Etiam cursus urna sit amet justo efficitur lobortis. Cras elementum convallis arcu eget ultrices. Integer at consectetur ligula. Vestibulum suscipit bibendum enim quis tincidunt. Curabitur aliquet arcu vel aliquet fermentum.\n",
      "\n",
      "Fusce interdum sem non augue condimentum, nec posuere lorem euismod. Nam massa leo, gravida eget nisi sed, sollicitudin rutrum elit. Duis massa enim, ullamcorper nec fermentum at, mattis in ligula. Vestibulum ut dolor eu magna varius luctus. Maecenas quis risus in ipsum finibus placerat. Nulla tincidunt ligula vel ultricies tempus. Nunc eleifend porttitor maximus. Maecenas quis tellus sit amet dolor pulvinar pellentesque. Aenean consequat risus ut venenatis rhoncus. Morbi quis ipsum hendrerit, vehicula massa in, finibus quam.' metadata={'source': 'test.txt'}\n"
     ]
    }
   ],
   "source": [
    "from langchain.document_loaders import TextLoader\n",
    "\n",
    "loader = TextLoader(\"test.txt\")\n",
    "document = loader.load()\n",
    "print(document[0])\n"
   ]
  },
  {
   "cell_type": "code",
   "execution_count": 1,
   "id": "661fe9af",
   "metadata": {},
   "outputs": [
    {
     "name": "stdout",
     "output_type": "stream",
     "text": [
      "Note: you may need to restart the kernel to use updated packages.\n"
     ]
    }
   ],
   "source": [
    "%pip install -qU langchain_community beautifulsoup4"
   ]
  },
  {
   "cell_type": "code",
   "execution_count": 2,
   "id": "40ca4d7d5ffe3b27",
   "metadata": {
    "ExecuteTime": {
     "end_time": "2024-10-25T05:03:07.980289Z",
     "start_time": "2024-10-25T05:03:06.556592Z"
    }
   },
   "outputs": [
    {
     "name": "stderr",
     "output_type": "stream",
     "text": [
      "USER_AGENT environment variable not set, consider setting it to identify your requests.\n"
     ]
    },
    {
     "data": {
      "text/plain": [
       "Document(metadata={'source': 'https://www.espn.com/', 'title': 'ESPN - Serving Sports Fans. Anytime. Anywhere.', 'description': 'Visit ESPN for live scores, highlights and sports news. Stream exclusive games on ESPN+ and play fantasy sports.', 'language': 'en'}, page_content=\"\\n\\n\\n\\n\\n\\n\\n\\n\\nESPN - Serving Sports Fans. Anytime. Anywhere.\\n\\n\\n\\n\\n\\n\\n\\n\\n\\n\\n\\n\\n\\n\\n\\n\\n\\n\\n\\n\\n\\n\\n\\n\\n\\n\\n\\n\\n\\n\\n\\n\\n\\n\\n\\n\\n\\n\\n\\n\\n\\n\\n\\n\\n\\n\\n\\n\\n\\n\\n\\n\\n\\n\\n\\n\\n\\n\\n\\n\\n\\n\\n\\n\\n\\n\\n\\n\\n\\n\\n\\n\\n\\n\\n\\n\\n\\n\\n\\n\\n\\n\\n\\n\\n\\n\\n\\n\\n\\n\\n\\n\\n        Skip to main content\\n    \\n\\n        Skip to navigation\\n    \\n\\n\\n\\n\\n\\n\\n\\n\\n\\n\\n\\n\\n\\n\\n\\n\\n\\n\\n\\n\\n\\n\\n\\n\\n\\n\\n\\n\\n\\n\\n\\n\\n\\n<\\n\\n>\\n\\n\\n\\n\\n\\n\\n\\n\\n\\nMenuESPN\\n\\n\\n\\n\\n\\nscores\\n\\n\\n\\nNFLNBANCAAFNHLNCAAMNCAAWSoccerMore SportsBoxingCFLNCAACricketF1GamingGolfHorseLLWSMLBMMANASCARNLLNBA G LeagueNBA Summer LeagueNWSLOlympicsPLLProfessional WrestlingRacingRN BBRN FBRugbySports BettingTennisWNBAX GamesUFLEditionsFantasyWatchESPN BETESPN+\\n\\n\\n\\n\\n\\n\\n\\n\\n\\n\\n\\n\\n\\n\\n\\n  \\n\\nSubscribe Now\\n\\n\\n\\n\\n\\nPGA TOUR LIVE\\n\\n\\n\\n\\n\\n\\n\\nAustralian Open\\n\\n\\n\\n\\n\\n\\n\\nNHL\\n\\n\\n\\n\\n\\n\\n\\nNCAA Men's Basketball\\n\\n\\n\\n\\n\\n\\n\\nNCAA Women's Basketball\\n\\n\\nQuick Links\\n\\n\\n\\n\\nNFL Playoff Bracket\\n\\n\\n\\n\\n\\n\\n\\nUnrivaled 3-on-3\\n\\n\\n\\n\\n\\n\\n\\nNBA Trade Machine\\n\\n\\n\\n\\n\\n\\n\\nMLB Free Agency\\n\\n\\n\\n\\n\\n\\n\\nWhere To Watch\\n\\n\\n\\n\\n\\n\\n\\nToday's Top Odds\\n\\n\\n\\n\\n\\n\\n\\nESPN Radio: Listen Live\\n\\n\\n\\n\\n\\n\\n\\nAustralian Open Bracket\\n\\n\\n\\n\\n\\n\\nFavorites\\n\\n\\n\\n\\n\\n\\n      Manage Favorites\\n      \\n\\n\\n\\nCustomize ESPNCreate AccountLog InFantasy\\n\\n\\n\\n\\nFootball\\n\\n\\n\\n\\n\\n\\n\\nBaseball\\n\\n\\n\\n\\n\\n\\n\\nHockey\\n\\n\\n\\n\\n\\n\\n\\nMen's Basketball\\n\\n\\n\\n\\n\\n\\n\\nWomen's Basketball\\n\\n\\nESPN Sites\\n\\n\\n\\n\\nESPN Deportes\\n\\n\\n\\n\\n\\n\\n\\nAndscape\\n\\n\\n\\n\\n\\n\\n\\nespnW\\n\\n\\n\\n\\n\\n\\n\\nESPNFC\\n\\n\\n\\n\\n\\n\\n\\nX Games\\n\\n\\n\\n\\n\\n\\n\\nSEC Network\\n\\n\\nESPN Apps\\n\\n\\n\\n\\nESPN\\n\\n\\n\\n\\n\\n\\n\\nESPN Fantasy\\n\\n\\n\\n\\n\\n\\n\\nTournament Challenge\\n\\n\\nFollow ESPN\\n\\n\\n\\n\\nFacebook\\n\\n\\n\\n\\n\\n\\n\\nX/Twitter\\n\\n\\n\\n\\n\\n\\n\\nInstagram\\n\\n\\n\\n\\n\\n\\n\\nSnapchat\\n\\n\\n\\n\\n\\n\\n\\nTikTok\\n\\n\\n\\n\\n\\n\\n\\nYouTube\\n\\n\\nSix big questions on the Cowboys' Brian Schottenheimer pick ... and a grade for the hireJerry Jones promoted Schottenheimer from OC to head coach. Here's what it means for Dak Prescott and the Cowboys.3hTodd ArcherTim Heitman-USA TODAY SportsSchefter: Jerry Jones' excitement was evident after Schottenheimer hire2h1:05TOP HEADLINESCowboys tab Schottenheimer as next head coachEx-Jets coach Saleh back as Niners' D-coordinatorCanes add Rantanen as part of 3-team blockbusterSources: Carroll agrees to deal to coach RaidersMcGregor: UFC nixed Logan Paul boxing matchS.C. earns 'necessary' win, hands LSU first lossGlenn edges Liu to defend U.S. figure skating title11-year-old rejects big haul for rare Skenes cardNFL draft: Miller's top 50 prospects'Randy's been his co-pilot for 22 years': Inside the life of LeBron James' fixer19hDave McMenaminBRONNY'S EPIC DUNKBronny James absolutely destroys the rim on and-1 posterizer2h0:28AFC Championship‘We look to him as our leader’: Inside Josh Allen’s growth from 0-star recruit to NFL star'His leadership and his mentality is kind of infectious for the whole team.'20hAlaina GetzenbergMichael Owens/Getty ImagesStephen A. and Ryan Clark clash over Allen16h2:18CARROLL TO COACH RAIDERSPete Carroll is back in the NFL! Why the Raiders made the hire, plus our grade and what's nextWe answer six burning questions on Carroll's return to coaching -- and Tom Brady's involvement. Plus, Ben Solak grades the hire.13hPaul Gutierrez, +4 MoreMatthew Maxey/Icon Sportswire)Stephen A.: Raiders needed an experienced coach like Carroll15h1:14Tracking NFL coaching changesAUSTRALIAN OPEN WOMEN'S FINALSabalenka vs. Keys: Who will win the title?Can Madison Keys pull off another huge upset? Or will defending champ Aryna Sabalenka prove why she's ranked No. 1? Our experts make predictions.1dESPN.comAP Photo/Frank Franklin II🏆 Women’s singles bracket📅 Full Aussie Open scoreboardPaopao's great assist to Johnson has crowd amped as South Carolina hands LSU first loss8h0:25\\n\\n\\n\\nDawn Staley credits fans in South Carolina's win over LSU6h1:29\\n\\n\\nShayeann Day-Wilson gets hoop and harm7h0:19\\n\\n\\nSC takes the lead over LSU with back-to-back steals8h0:24\\n\\n\\nSouth Carolina's Sania Feagin scowls after big block8h0:17\\n\\n\\nFlau'jae Johnson gets steal and lays it in for LSU9h0:16\\n\\n\\n\\nWomen's Bracketology: How LSU-South Carolina could shake up (or lock up) No. 1 seedsNBA TRADE DEADLINEFEB. 6Suns, Bucks and Knicks among nine teams we have trade deadline intel onWhich NBA contenders are most desperate to make a trade? Tim Bontemps and Brian Windhorst have new intel, plus the latest from the Paris games and the other lineup change that's fueling Miami.19hTim Bontemps and Brian WindhorstCarmen Mandato/Getty ImagesShams: What I'm hearing about the Lakers, Bulls and Jimmy ButlerOur insider shares the latest intel on growing frustration in L.A. and the ever-developing Butler situation.3dShams Charania🏀 Trade tracker: Details for all dealsFive players most likely to be tradedNBA SCOREBOARDFRIDAY'S GAMES📅 Full scoreboard Top HeadlinesCowboys tab Schottenheimer as next head coachEx-Jets coach Saleh back as Niners' D-coordinatorCanes add Rantanen as part of 3-team blockbusterSources: Carroll agrees to deal to coach RaidersMcGregor: UFC nixed Logan Paul boxing matchS.C. earns 'necessary' win, hands LSU first lossGlenn edges Liu to defend U.S. figure skating title11-year-old rejects big haul for rare Skenes cardNFL draft: Miller's top 50 prospectsFavorites FantasyManage FavoritesFantasy HomeCustomize ESPNCreate AccountLog InICYMINikola Jokic buries nearly full-court buzzer-beater for DenverNikola Jokic makes a shot that goes almost the length of the court to end the third quarter vs. the Sacramento Kings. Best of ESPN+ESPN IllustrationShams Charania's Inside Pass: Trade buzz on Lakers, Bulls, rest of NBAOur NBA insider shares the latest intel on growing frustration in Los Angeles and the ever-developing Jimmy Butler situation.Photo by Nick Cammett/Getty ImagesNFL exec predictions: QB moves coming for Steelers, Raiders?Major quarterback moves in Pittsburgh and Vegas? Big trades involving star wide receivers? Execs help us look to the future.Mark J. Rebilas/Imagn ImagesCFP championship: Ohio State-Notre Dame takeaways, reactionsWith a mix of epic talent and tons of maturity, the Buckeyes opened the new CFP era with a title. And they just might do it all over again a year from now.Jared Silber/NHLI via Getty ImagesNHL Bubble Watch: Projecting playoff hopes for all 32 teamsPast midseason, there is little clarity on which teams are playoff-bound. Here are projections for all 32 clubs, plus a deep look at goaltending. Trending NowESPNRanking the top 100 college football players of the 2024-25 seasonWe ranked the top 100 players of the 2024-25 season.AP Photo/Brett Coomer, FileBaseball Hall of Fame 2025 results: Winner and losersThe results are in! Our experts break down the highs and lows of the 2025 vote that made Ichiro Suzuki, CC Sabathia and Billy Wagner Hall of Famers.Adam Davis/EPA/ShutterstockHow the Spurs paved the way for Victor Wembanyama's NBA careerBefore the Spurs drafted Wembanyama No. 1 in 2023, they selected a Frenchman named Tony Parker with the No. 28 pick in 2001.Scott Halleran/Getty ImagesWhy Travis Kelce is everyone's favorite teammateFrom risking getting fined to consoling struggling teammates, the Kansas City Chiefs tight end has a side not many see. Sign up for FREE!Create A LeagueJoin a Public LeagueReactivate a LeaguePractice With a Mock DraftSign up for FREE!Create A LeagueJoin a Public LeagueReactivate a LeaguePractice with a Mock DraftSign up to play the #1 Fantasy Baseball GameReactivate A LeagueCreate A LeagueJoin a Public LeaguePractice With a Mock DraftESPN+ on Disney+Mike Windle/Getty Images for ESPNHow to watch ESPN+ on Disney+: Frequently asked questionsStarting Dec. 4, ESPN+ will be available on Disney+. Check out how to watch NHL, MLB, Pat McAfee, 30 for 30s and other exciting events now. Get a custom ESPN experienceEnjoy the benefits of a personalized accountSelect your favorite leagues, teams and players and get the latest scores, news and updates that matter most to you. \\n\\nESPN+\\n\\n\\n\\n\\nPGA TOUR LIVE\\n\\n\\n\\n\\n\\n\\n\\nAustralian Open\\n\\n\\n\\n\\n\\n\\n\\nNHL\\n\\n\\n\\n\\n\\n\\n\\nNCAA Men's Basketball\\n\\n\\n\\n\\n\\n\\n\\nNCAA Women's Basketball\\n\\n\\nQuick Links\\n\\n\\n\\n\\nNFL Playoff Bracket\\n\\n\\n\\n\\n\\n\\n\\nUnrivaled 3-on-3\\n\\n\\n\\n\\n\\n\\n\\nNBA Trade Machine\\n\\n\\n\\n\\n\\n\\n\\nMLB Free Agency\\n\\n\\n\\n\\n\\n\\n\\nWhere To Watch\\n\\n\\n\\n\\n\\n\\n\\nToday's Top Odds\\n\\n\\n\\n\\n\\n\\n\\nESPN Radio: Listen Live\\n\\n\\n\\n\\n\\n\\n\\nAustralian Open Bracket\\n\\n\\nFantasy\\n\\n\\n\\n\\nFootball\\n\\n\\n\\n\\n\\n\\n\\nBaseball\\n\\n\\n\\n\\n\\n\\n\\nHockey\\n\\n\\n\\n\\n\\n\\n\\nMen's Basketball\\n\\n\\n\\n\\n\\n\\n\\nWomen's Basketball\\n\\n\\nESPN Sites\\n\\n\\n\\n\\nESPN Deportes\\n\\n\\n\\n\\n\\n\\n\\nAndscape\\n\\n\\n\\n\\n\\n\\n\\nespnW\\n\\n\\n\\n\\n\\n\\n\\nESPNFC\\n\\n\\n\\n\\n\\n\\n\\nX Games\\n\\n\\n\\n\\n\\n\\n\\nSEC Network\\n\\n\\nESPN Apps\\n\\n\\n\\n\\nESPN\\n\\n\\n\\n\\n\\n\\n\\nESPN Fantasy\\n\\n\\n\\n\\n\\n\\n\\nTournament Challenge\\n\\n\\nFollow ESPN\\n\\n\\n\\n\\nFacebook\\n\\n\\n\\n\\n\\n\\n\\nX/Twitter\\n\\n\\n\\n\\n\\n\\n\\nInstagram\\n\\n\\n\\n\\n\\n\\n\\nSnapchat\\n\\n\\n\\n\\n\\n\\n\\nTikTok\\n\\n\\n\\n\\n\\n\\n\\nYouTube\\n\\n\\nTerms of UsePrivacy PolicyYour US State Privacy RightsChildren's Online Privacy PolicyInterest-Based AdsAbout Nielsen MeasurementDo Not Sell or Share My Personal InformationContact UsDisney Ad Sales SiteWork for ESPNCorrectionsESPN BET Sportsbook is owned and operated by PENN Entertainment, Inc. and its subsidiaries ('PENN'). ESPN BET is available in states where PENN is licensed to offer sports wagering. Must be 21+ to wager. If you or someone you know has a gambling problem and wants help, call 1-800-GAMBLER.Copyright: © 2025 ESPN Enterprises, Inc. All rights reserved.\\n\\n\\n\\n\\n\\n\\n\\n\\n\\n\\n\\n\\n\\n\\n\\n\\n\\n\")"
      ]
     },
     "execution_count": 2,
     "metadata": {},
     "output_type": "execute_result"
    }
   ],
   "source": [
    "from langchain_community.document_loaders import WebBaseLoader\n",
    "\n",
    "loader = WebBaseLoader(\"https://www.espn.com/\")\n",
    "documents = loader.load()\n",
    "documents[0]"
   ]
  },
  {
   "cell_type": "code",
   "execution_count": 4,
   "id": "c64a6f5b7fb8e3b1",
   "metadata": {
    "ExecuteTime": {
     "end_time": "2024-10-25T05:04:06.012880Z",
     "start_time": "2024-10-25T05:04:06.008868Z"
    }
   },
   "outputs": [
    {
     "data": {
      "text/plain": [
       "{'source': 'https://www.espn.com/',\n",
       " 'title': 'ESPN - Serving Sports Fans. Anytime. Anywhere.',\n",
       " 'description': 'Visit ESPN for live scores, highlights and sports news. Stream exclusive games on ESPN+ and play fantasy sports.',\n",
       " 'language': 'en'}"
      ]
     },
     "execution_count": 4,
     "metadata": {},
     "output_type": "execute_result"
    }
   ],
   "source": [
    "# checking out the metadata\n",
    "documents[0].metadata"
   ]
  },
  {
   "cell_type": "code",
   "execution_count": 3,
   "id": "7748b59954b2e87f",
   "metadata": {
    "ExecuteTime": {
     "end_time": "2024-10-25T05:05:59.155141Z",
     "start_time": "2024-10-25T05:05:58.689073Z"
    }
   },
   "outputs": [
    {
     "data": {
      "text/plain": [
       "'\\n\\n\\n\\n\\nWebBaseLoader | 🦜️🔗 LangChain\\n\\n\\n\\n\\n\\n\\nSkip to main contentIntegrationsAPI ReferenceMoreContributingPeopleError referenceLangSmithLangGraphLangChain HubLangChain JS/TSv0.3v0.3v0.2v0.1💬SearchProvidersAnthropicAWSGoogleHugging FaceMicrosoftOpenAIMoreProvidersAcreomActiveloop Deep LakeAerospikeAI21 LabsAimAINetworkAirbyteAirtableAlchemyAleph AlphaAlibaba CloudAnalyticDBAnnoyAnthropicAnyscaleApache Software FoundationApache DorisApifyAppleArangoDBArceeArcGISArgillaArizeArthurArxivAscendAskNewsAssemblyAIAstra DBAtlasAwaDBAWSAZLyricsBAAIBagelBagelDBBaichuanBaiduBananaBasetenBeamBeautiful SoupBibTeXBiliBiliBittensorBlackboardbookend.aiBoxBrave SearchBreebs (Open Knowledge)BrowserbaseBrowserlessByteDanceCassandraCerebrasCerebriumAIChaindeskChromaClarifaiClearMLClickHouseClickUpCloudflareClovaCnosDBCogniSwitchCohereCollege ConfidentialCometConfident AIConfluenceConneryContextCouchbaseCozeCrateDBC TransformersCTranslate2CubeDappierDashVectorDatabricksDatadog TracingDatadog LogsDataForSEODataheraldDedocDeepInfraDeepSparseDiffbotDingoDBDiscordDocArrayDoclingDoctranDocugamiDocusaurusDriaDropboxDSPyDuckDBDuckDuckGo SearchE2BEden AIElasticsearchElevenLabsEmbedchainEpsillaEtherscanEverly AIEverNoteExaFacebook - MetaFalkorDBFalkorDBFaunaFiddlerFigmaFireCrawlFireworks AIFlyteFMP Data (Financial Data Prep)Forefront AIFriendli AIGeopandasGitGitBookGitHubGitLabGoldenGoogleSerper - Google Search APIGooseAIGPT4AllGradientGraphsignalGrobidGroqGutenbergHacker NewsHazy ResearchHeliconeHologresHTML to textHuaweiHugging FaceHyperbrowserIBMIEIT SystemsiFixitiFlytekIMSDbInfinispan VSInfinityInfinoIntelIuguJaguarJavelin AI GatewayJina AIJohnsnowlabsJoplinKDB.AIKineticaKoboldAIKonkoKoNLPYKùzuLabel StudiolakeFSLanceDBLangChain Decorators ✨LanternLindormLinkupLiteLLMLlamaIndexLlama.cppLlamaEdgellamafileLLMonitorLocalAILog10MariTalkMarqoMediaWikiDumpMeilisearchMemcachedMetalMicrosoftMilvusMindsDBMinimaxMistralAIMLflow AI Gateway for LLMsMLflowMLXModalModelScopeModern TreasuryMomentoMongoDBMongoDB AtlasMotherduckMotörheadMyScaleNAVERNeo4jNLPCloudNomicNotion DBNucliaNVIDIAObsidianOceanBaseOracle Cloud Infrastructure (OCI)OctoAIOllamaOntotext GraphDBOpenAIOpenLLMOpenSearchOpenWeatherMapOracleAI Vector SearchOutlineOutlinesPandasPaymanAIPebbloPerplexityPetalsPostgres EmbeddingPGVectorPineconePipelineAIPipeshiftPortkeyPredibasePrediction GuardPremAIPromptLayerPsychicPubMedPullMd LoaderPygmalionAIQdrantRAGatouillerank_bm25Ray ServeRebuffRedditRedisRemembrallReplicateRoamSema4 (fka Robocorp)RocksetRunhouseRWKV-4Salute DevicesSAPScrapeGraph AISearchApiSearxNG Search APISemaDBSerpAPIShale ProtocolSingleStoreDBscikit-learnSlackSnowflakespaCySparkSparkLLMSpreedlySQLiteStack ExchangeStarRocksStochasticAIStreamlitStripeSupabase (Postgres)NebulaTairTelegramTencentTensorFlow DatasetsTiDBTigerGraphTigrisTiloresTogether AI2MarkdownTranswarpTrelloTrubricsTruLensTwitterTypesenseUnstructuredUpstageupstashUpTrainUSearchVDMSVearchVectaraVespavliteVoyageAIWeights & BiasesWeights & Biases tracingWeights & Biases trackingWeatherWeaviateWhatsAppWhyLabsWikipediaWolfram AlphaWriterxAIXataXorbits Inference (Xinference)YahooYandexYeager.aiYellowbrick01.AIYouYouTubeZepZhipu AIZillizComponentsChat modelsChat modelsAI21 LabsAlibaba Cloud PAI EASAnthropic[Deprecated] Experimental Anthropic Tools WrapperAnyscaleAzure OpenAIAzure ML EndpointBaichuan ChatBaidu QianfanAWS BedrockCerebrasCloudflare Workers AICohereCoze ChatDappier AIDatabricksDeepInfraEden AIErnie Bot ChatEverlyAIFireworksChatFriendliGigaChatGoogle AIGoogle Cloud Vertex AIGPTRouterGroqChatHuggingFaceIBM watsonx.aiJinaChatKineticaKonkoLiteLLMLiteLLM RouterLlama 2 ChatLlama APILlamaEdgeLlama.cppmaritalkMiniMaxMistralAIMLXModelScopeMoonshotNaverNVIDIA AI EndpointsChatOCIModelDeploymentOCIGenAIChatOctoAIOllamaOpenAIOutlinesPerplexityPipeshiftChatPredictionGuardPremAIPromptLayer ChatOpenAIRekaSambaNovaCloudSambaStudioSnowflake CortexsolarSparkLLM ChatNebula (Symbl.ai)Tencent HunyuanTogetherTongyi QwenUpstagevLLM ChatVolc Enging MaasWriterxAIYandexGPTChatYIYuan2.0ZHIPU AIRetrieversRetrieversActiveloop Deep MemoryAmazon KendraArceeArxivAskNewsAzure AI SearchBedrock (Knowledge Bases)BM25BoxBREEBS (Open Knowledge)ChaindeskChatGPT pluginCohere rerankerCohere RAGDappierDocArrayDriaElasticSearch BM25ElasticsearchEmbedchainFlashRank rerankerFleet AI ContextGoogle DriveGoogle Vertex AI SearchIBM watsonx.aiJaguarDB Vector DatabaseKay.aiKinetica Vectorstore based RetrieverkNNLinkupSearchRetrieverLLMLingua Document CompressorLOTR (Merger Retriever)MetalMilvus Hybrid SearchNanoPQ (Product Quantization)needleOutlinePinecone Hybrid SearchPubMedQdrant Sparse VectorRAGatouilleRePhraseQueryRememberizerSEC filingSelf-querying retrieversSingleStoreDBSVMTavilySearchAPITF-IDF**NeuralDB**VespaWikipediaYou.comZep CloudZep Open SourceZilliz Cloud PipelineTools/ToolkitsToolsAINetwork ToolkitAlpha VantageAmadeus ToolkitArXivAskNewsAWS LambdaAzure AI Services ToolkitAzure Cognitive Services ToolkitAzure Container Apps dynamic sessionsShell (bash)Bearly Code InterpreterBing SearchBrave SearchCassandra Database ToolkitCDPChatGPT PluginsClickUp ToolkitCogniswitch ToolkitConnery Toolkit and ToolsDall-E Image GeneratorDappierDatabricks Unity Catalog (UC)DataForSEODataheraldDuckDuckGo SearchE2B Data AnalysisEden AIEleven Labs Text2SpeechExa SearchFile SystemFinancialDatasets ToolkitFMP DataGithub ToolkitGitlab ToolkitGmail ToolkitGolden QueryGoogle BooksGoogle Cloud Text-to-SpeechGoogle DriveGoogle FinanceGoogle ImagenGoogle JobsGoogle LensGoogle PlacesGoogle ScholarGoogle SearchGoogle SerperGoogle TrendsGradioGraphQLHuggingFace Hub ToolsHuman as a toolIFTTT WebHooksInfobipIonic Shopping ToolJina SearchJira ToolkitJSON ToolkitLemon AgentLinkupSearchToolMemorizeMojeek SearchMultiOn ToolkitNASA ToolkitNuclia UnderstandingNVIDIA Riva: ASR and TTSOffice365 ToolkitOpenAPI ToolkitNatural Language API ToolkitsOpenWeatherMapOracle AI Vector Search: Generate SummaryPandas DataframePassio NutritionAIPaymanAIPlayWright Browser ToolkitPolygon IO Toolkit and ToolsPowerBI ToolkitPubMedPython REPLReddit SearchRequests ToolkitRiza Code InterpreterRobocorp ToolkitSceneXplainScrapeGraphSearchApiSearxNG SearchSemantic Scholar API ToolSerpAPISlack ToolkitSpark SQL ToolkitSQLDatabase ToolkitStackExchangeSteam ToolkitStripeTavily SearchTiloresTwilioUpstageWikidataWikipediaWolfram AlphaYahoo Finance NewsYou.com SearchYouTubeZapier Natural Language ActionsZenGuard AIDocument loadersDocument loadersacreomAirbyteLoaderAirbyte CDK (Deprecated)Airbyte Gong (Deprecated)Airbyte Hubspot (Deprecated)Airbyte JSON (Deprecated)Airbyte Salesforce (Deprecated)Airbyte Shopify (Deprecated)Airbyte Stripe (Deprecated)Airbyte Typeform (Deprecated)Airbyte Zendesk Support (Deprecated)AirtableAlibaba Cloud MaxComputeAmazon TextractApify DatasetArcGISArxivLoaderAssemblyAI Audio TranscriptsAstraDBAsync ChromiumAsyncHtmlAthenaAWS S3 DirectoryAWS S3 FileAZLyricsAzure AI DataAzure Blob Storage ContainerAzure Blob Storage FileAzure AI Document IntelligenceBibTeXBiliBiliBlackboardBlockchainBoxBrave SearchBrowserbaseBrowserlessBSHTMLLoaderCassandraChatGPT DataCollege ConfidentialConcurrent LoaderConfluenceCoNLL-UCopy PasteCouchbaseCSVCube Semantic LayerDatadog LogsDedocDiffbotDiscordDoclingDocugamiDocusaurusDropboxDuckDBEmailEPubEtherscanEverNoteexample_dataFacebook ChatFaunaFigmaFireCrawlGeopandasGitGitBookGitHubGlue CatalogGoogle AlloyDB for PostgreSQLGoogle BigQueryGoogle BigtableGoogle Cloud SQL for SQL serverGoogle Cloud SQL for MySQLGoogle Cloud SQL for PostgreSQLGoogle Cloud Storage DirectoryGoogle Cloud Storage FileGoogle Firestore in Datastore ModeGoogle DriveGoogle El Carro for Oracle WorkloadsGoogle Firestore (Native Mode)Google Memorystore for RedisGoogle SpannerGoogle Speech-to-Text Audio TranscriptsGrobidGutenbergHacker NewsHuawei OBS DirectoryHuawei OBS FileHuggingFace datasetHyperbrowserLoaderiFixitImagesImage captionsIMSDbIuguJoplinJSONLoaderJupyter NotebookKineticalakeFSLangSmithLarkSuite (FeiShu)LLM SherpaMastodonMathPixPDFLoaderMediaWiki DumpMerge Documents LoadermhtmlMicrosoft ExcelMicrosoft OneDriveMicrosoft OneNoteMicrosoft PowerPointMicrosoft SharePointMicrosoft WordNear BlockchainModern TreasuryMongoDBNeedle Document LoaderNews URLNotion DB 2/2NucliaObsidianOpen Document Format (ODT)Open City DataOracle Autonomous DatabaseOracle AI Vector Search: Document ProcessingOrg-modePandas DataFrameparsersPDFMinerPDFPlumberPebblo Safe DocumentLoaderPolars DataFramePsychicPubMedPullMdLoaderPyMuPDFLoaderPyPDFDirectoryLoaderPyPDFium2LoaderPyPDFLoaderPySparkQuipReadTheDocs DocumentationRecursive URLRedditRoamRocksetrspaceRSS FeedsRSTscrapflyScrapingAntSitemapSlackSnowflakeSource CodeSpiderSpreedlyStripeSubtitleSurrealDBTelegramTencent COS DirectoryTencent COS FileTensorFlow DatasetsTiDB2MarkdownTOMLTrelloTSVTwitterUnstructuredUnstructuredMarkdownLoaderUnstructuredPDFLoaderUpstageURLVsdxWeatherWebBaseLoaderWhatsApp ChatWikipediaUnstructuredXMLLoaderXorbits Pandas DataFrameYouTube audioYouTube transcriptsYoutubeLoaderDLYuqueZeroxPDFLoaderVector storesVector storesActiveloop Deep LakeAerospikeAlibaba Cloud OpenSearchAnalyticDBAnnoyApache DorisApertureDBAstra DB Vector StoreAtlasAwaDBAzure Cosmos DB Mongo vCoreAzure Cosmos DB No SQLAzure AI SearchBagelBagelDBBaidu Cloud ElasticSearch VectorSearchBaidu VectorDBApache CassandraChromaClarifaiClickHouseCouchbaseDashVectorDatabricksDingoDBDocArray HnswSearchDocArray InMemorySearchAmazon Document DBDuckDBChina Mobile ECloud ElasticSearch VectorSearchElasticsearchEpsillaFaissFaiss (Async)FalkorDBVectorStoreGoogle AlloyDB for PostgreSQLGoogle BigQuery Vector SearchGoogle Cloud SQL for MySQLGoogle Cloud SQL for PostgreSQLFirestoreGoogle Memorystore for RedisGoogle SpannerGoogle Vertex AI Feature StoreGoogle Vertex AI Vector SearchHippoHologresInfinispanJaguar Vector DatabaseKDB.AIKineticaLanceDBLanternLindormLLMRailsManticoreSearch VectorStoreMarqoMeilisearchAmazon MemoryDBMilvusMomento Vector Index (MVI)MongoDB AtlasMyScaleNeo4j Vector IndexNucliaDBOceanbaseOpenSearchOracle AI Vector Search: Vector StorePathwayPostgres EmbeddingPGVecto.rsPGVectorPineconeQdrantRedisRelytRocksetSAP HANA Cloud Vector EngineScaNNSemaDBSingleStoreDBscikit-learnSQLiteVecSQLite-VSSSQLServerStarRocksSupabase (Postgres)SurrealDBTablestoreTairTencent Cloud VectorDBThirdAI NeuralDBTiDB VectorTigrisTileDBTimescale Vector (Postgres)TypesenseUpstash VectorUSearchValdIntel\\'s Visual Data Management System (VDMS)VearchVectaraVespaviking DBvliteWeaviateXataYellowbrickZepZep CloudZillizEmbedding modelsEmbedding modelsAI21Aleph AlphaAnyscaleascendAwaDBAzureOpenAIBaichuan Text EmbeddingsBaidu QianfanBedrockBGE on Hugging FaceBookend AIClarifaiCloudflare Workers AIClova EmbeddingsCohereDashScopeDatabricksDeepInfraEDEN AIElasticsearchEmbaasERNIEFake EmbeddingsFastEmbed by QdrantFireworksGigaChatGoogle Generative AI EmbeddingsGoogle Vertex AIGPT4AllGradientHugging FaceIBM watsonx.aiInfinityInstruct Embeddings on Hugging FaceIPEX-LLM: Local BGE Embeddings on Intel CPUIPEX-LLM: Local BGE Embeddings on Intel GPUIntel® Extension for Transformers Quantized Text EmbeddingsJinaJohn Snow LabsLASER Language-Agnostic SEntence Representations Embeddings by Meta AILindormLlama.cppllamafileLLMRailsLocalAIMiniMaxMistralAImodel2vecModelScopeMosaicMLNaverNLP CloudNomicNVIDIA NIMsOracle Cloud Infrastructure Generative AIOllamaOpenClipOpenAIOpenVINOEmbedding Documents using Optimized and Quantized EmbeddersOracle AI Vector Search: Generate EmbeddingsOVHcloudPinecone EmbeddingsPredictionGuardEmbeddingsPremAISageMakerSambaNovaSelf HostedSentence Transformers on Hugging FaceSolarSpaCySparkLLM Text EmbeddingsTensorFlow HubText Embeddings InferenceTextEmbed - Embedding Inference ServerTitan TakeoffTogether AIUpstageVolc EngineVoyage AIXorbits inference (Xinference)YandexGPTZhipuAIOtherComponentsDocument loadersWebBaseLoaderOn this pageWebBaseLoader\\nThis covers how to use WebBaseLoader to load all text from HTML webpages into a document format that we can use downstream. For more custom logic for loading webpages look at some child class examples such as IMSDbLoader, AZLyricsLoader, and CollegeConfidentialLoader.\\nIf you don\\'t want to worry about website crawling, bypassing JS-blocking sites, and data cleaning, consider using FireCrawlLoader or the faster option SpiderLoader.\\nOverview\\u200b\\nIntegration details\\u200b\\n\\nTODO: Fill in table features.\\nTODO: Remove JS support link if not relevant, otherwise ensure link is correct.\\nTODO: Make sure API reference links are correct.\\n\\nClassPackageLocalSerializableJS supportWebBaseLoaderlangchain_community✅❌❌\\nLoader features\\u200b\\nSourceDocument Lazy LoadingNative Async SupportWebBaseLoader✅✅\\nSetup\\u200b\\nCredentials\\u200b\\nWebBaseLoader does not require any credentials.\\nInstallation\\u200b\\nTo use the WebBaseLoader you first need to install the langchain-community python package.\\n%pip install -qU langchain_community beautifulsoup4\\nInitialization\\u200b\\nNow we can instantiate our model object and load documents:\\nfrom langchain_community.document_loaders import WebBaseLoaderloader = WebBaseLoader(\"https://www.example.com/\")API Reference:WebBaseLoader\\nTo bypass SSL verification errors during fetching, you can set the \"verify\" option:\\nloader.requests_kwargs = {\\'verify\\':False}\\nInitialization with multiple pages\\u200b\\nYou can also pass in a list of pages to load from.\\nloader_multiple_pages = WebBaseLoader(    [\"https://www.example.com/\", \"https://google.com\"])\\nLoad\\u200b\\ndocs = loader.load()docs[0]\\nDocument(metadata={\\'source\\': \\'https://www.example.com/\\', \\'title\\': \\'Example Domain\\', \\'language\\': \\'No language found.\\'}, page_content=\\'\\\\n\\\\n\\\\nExample Domain\\\\n\\\\n\\\\n\\\\n\\\\n\\\\n\\\\n\\\\nExample Domain\\\\nThis domain is for use in illustrative examples in documents. You may use this\\\\n    domain in literature without prior coordination or asking for permission.\\\\nMore information...\\\\n\\\\n\\\\n\\\\n\\')\\nprint(docs[0].metadata)\\n{\\'source\\': \\'https://www.example.com/\\', \\'title\\': \\'Example Domain\\', \\'language\\': \\'No language found.\\'}\\nLoad multiple urls concurrently\\u200b\\nYou can speed up the scraping process by scraping and parsing multiple urls concurrently.\\nThere are reasonable limits to concurrent requests, defaulting to 2 per second.  If you aren\\'t concerned about being a good citizen, or you control the server you are scraping and don\\'t care about load, you can change the requests_per_second parameter to increase the max concurrent requests.  Note, while this will speed up the scraping process, but may cause the server to block you.  Be careful!\\n%pip install -qU  nest_asyncio# fixes a bug with asyncio and jupyterimport nest_asyncionest_asyncio.apply()\\nNote: you may need to restart the kernel to use updated packages.\\nloader = WebBaseLoader([\"https://www.example.com/\", \"https://google.com\"])loader.requests_per_second = 1docs = loader.aload()docs\\nFetching pages: 100%|###########################################################################| 2/2 [00:00<00:00,  8.28it/s]\\n[Document(metadata={\\'source\\': \\'https://www.example.com/\\', \\'title\\': \\'Example Domain\\', \\'language\\': \\'No language found.\\'}, page_content=\\'\\\\n\\\\n\\\\nExample Domain\\\\n\\\\n\\\\n\\\\n\\\\n\\\\n\\\\n\\\\nExample Domain\\\\nThis domain is for use in illustrative examples in documents. You may use this\\\\n    domain in literature without prior coordination or asking for permission.\\\\nMore information...\\\\n\\\\n\\\\n\\\\n\\'), Document(metadata={\\'source\\': \\'https://google.com\\', \\'title\\': \\'Google\\', \\'description\\': \"Search the world\\'s information, including webpages, images, videos and more. Google has many special features to help you find exactly what you\\'re looking for.\", \\'language\\': \\'en\\'}, page_content=\\'GoogleSearch Images Maps Play YouTube News Gmail Drive More »Web History | Settings | Sign in\\\\xa0Advanced search5 ways Gemini can help during the HolidaysAdvertisingBusiness SolutionsAbout Google© 2024 - Privacy - Terms  \\')]\\nLoading a xml file, or using a different BeautifulSoup parser\\u200b\\nYou can also look at SitemapLoader for an example of how to load a sitemap file, which is an example of using this feature.\\nloader = WebBaseLoader(    \"https://www.govinfo.gov/content/pkg/CFR-2018-title10-vol3/xml/CFR-2018-title10-vol3-sec431-86.xml\")loader.default_parser = \"xml\"docs = loader.load()docs\\n[Document(metadata={\\'source\\': \\'https://www.govinfo.gov/content/pkg/CFR-2018-title10-vol3/xml/CFR-2018-title10-vol3-sec431-86.xml\\'}, page_content=\\'\\\\n\\\\n10\\\\nEnergy\\\\n3\\\\n2018-01-01\\\\n2018-01-01\\\\nfalse\\\\nUniform test method for the measurement of energy efficiency of commercial packaged boilers.\\\\nÂ§ 431.86\\\\nSection Â§ 431.86\\\\n\\\\nEnergy\\\\nDEPARTMENT OF ENERGY\\\\nENERGY CONSERVATION\\\\nENERGY EFFICIENCY PROGRAM FOR CERTAIN COMMERCIAL AND INDUSTRIAL EQUIPMENT\\\\nCommercial Packaged Boilers\\\\nTest Procedures\\\\n\\\\n\\\\n\\\\n\\\\n§\\\\u2009431.86\\\\nUniform test method for the measurement of energy efficiency of commercial packaged boilers.\\\\n(a) Scope. This section provides test procedures, pursuant to the Energy Policy and Conservation Act (EPCA), as amended, which must be followed for measuring the combustion efficiency and/or thermal efficiency of a gas- or oil-fired commercial packaged boiler.\\\\n(b) Testing and Calculations. Determine the thermal efficiency or combustion efficiency of commercial packaged boilers by conducting the appropriate test procedure(s) indicated in Table 1 of this section.\\\\n\\\\nTable 1—Test Requirements for Commercial Packaged Boiler Equipment Classes\\\\n\\\\nEquipment category\\\\nSubcategory\\\\nCertified rated inputBtu/h\\\\n\\\\nStandards efficiency metric(§\\\\u2009431.87)\\\\n\\\\nTest procedure(corresponding to\\\\nstandards efficiency\\\\nmetric required\\\\nby §\\\\u2009431.87)\\\\n\\\\n\\\\n\\\\nHot Water\\\\nGas-fired\\\\n≥300,000 and ≤2,500,000\\\\nThermal Efficiency\\\\nAppendix A, Section 2.\\\\n\\\\n\\\\nHot Water\\\\nGas-fired\\\\n>2,500,000\\\\nCombustion Efficiency\\\\nAppendix A, Section 3.\\\\n\\\\n\\\\nHot Water\\\\nOil-fired\\\\n≥300,000 and ≤2,500,000\\\\nThermal Efficiency\\\\nAppendix A, Section 2.\\\\n\\\\n\\\\nHot Water\\\\nOil-fired\\\\n>2,500,000\\\\nCombustion Efficiency\\\\nAppendix A, Section 3.\\\\n\\\\n\\\\nSteam\\\\nGas-fired (all*)\\\\n≥300,000 and ≤2,500,000\\\\nThermal Efficiency\\\\nAppendix A, Section 2.\\\\n\\\\n\\\\nSteam\\\\nGas-fired (all*)\\\\n>2,500,000 and ≤5,000,000\\\\nThermal Efficiency\\\\nAppendix A, Section 2.\\\\n\\\\n\\\\n\\\\u2003\\\\n\\\\n>5,000,000\\\\nThermal Efficiency\\\\nAppendix A, Section 2.OR\\\\nAppendix A, Section 3 with Section 2.4.3.2.\\\\n\\\\n\\\\n\\\\nSteam\\\\nOil-fired\\\\n≥300,000 and ≤2,500,000\\\\nThermal Efficiency\\\\nAppendix A, Section 2.\\\\n\\\\n\\\\nSteam\\\\nOil-fired\\\\n>2,500,000 and ≤5,000,000\\\\nThermal Efficiency\\\\nAppendix A, Section 2.\\\\n\\\\n\\\\n\\\\u2003\\\\n\\\\n>5,000,000\\\\nThermal Efficiency\\\\nAppendix A, Section 2.OR\\\\nAppendix A, Section 3. with Section 2.4.3.2.\\\\n\\\\n\\\\n\\\\n*\\\\u2009Equipment classes for commercial packaged boilers as of July 22, 2009 (74 FR 36355) distinguish between gas-fired natural draft and all other gas-fired (except natural draft).\\\\n\\\\n(c) Field Tests. The field test provisions of appendix A may be used only to test a unit of commercial packaged boiler with rated input greater than 5,000,000 Btu/h.\\\\n[81 FR 89305, Dec. 9, 2016]\\\\n\\\\n\\\\nEnergy Efficiency Standards\\\\n\\\\n\\')]\\nLazy Load\\u200b\\nYou can use lazy loading to only load one page at a time in order to minimize memory requirements.\\npages = []for doc in loader.lazy_load():    pages.append(doc)print(pages[0].page_content[:100])print(pages[0].metadata)\\n10Energy32018-01-012018-01-01falseUniform test method for the measurement of energy efficien{\\'source\\': \\'https://www.govinfo.gov/content/pkg/CFR-2018-title10-vol3/xml/CFR-2018-title10-vol3-sec431-86.xml\\'}\\nAsync\\u200b\\npages = []async for doc in loader.alazy_load():    pages.append(doc)print(pages[0].page_content[:100])print(pages[0].metadata)\\nFetching pages: 100%|###########################################################################| 1/1 [00:00<00:00, 10.51it/s]``````output10Energy32018-01-012018-01-01falseUniform test method for the measurement of energy efficien{\\'source\\': \\'https://www.govinfo.gov/content/pkg/CFR-2018-title10-vol3/xml/CFR-2018-title10-vol3-sec431-86.xml\\'}\\nUsing proxies\\u200b\\nSometimes you might need to use proxies to get around IP blocks. You can pass in a dictionary of proxies to the loader (and requests underneath) to use them.\\nloader = WebBaseLoader(    \"https://www.walmart.com/search?q=parrots\",    proxies={        \"http\": \"http://{username}:{password}:@proxy.service.com:6666/\",        \"https\": \"https://{username}:{password}:@proxy.service.com:6666/\",    },)docs = loader.load()\\nAPI reference\\u200b\\nFor detailed documentation of all WebBaseLoader features and configurations head to the API reference: https://python.langchain.com/api_reference/community/document_loaders/langchain_community.document_loaders.web_base.WebBaseLoader.html\\nRelated\\u200b\\n\\nDocument loader conceptual guide\\nDocument loader how-to guides\\nEdit this pageWas this page helpful?PreviousWeatherNextWhatsApp ChatOverviewIntegration detailsLoader featuresSetupCredentialsInstallationInitializationInitialization with multiple pagesLoadLoad multiple urls concurrentlyLoading a xml file, or using a different BeautifulSoup parserLazy LoadAsyncUsing proxiesAPI referenceRelatedCommunityTwitterGitHubOrganizationPythonJS/TSMoreHomepageBlogYouTubeCopyright © 2025 LangChain, Inc.\\n\\n'"
      ]
     },
     "execution_count": 3,
     "metadata": {},
     "output_type": "execute_result"
    }
   ],
   "source": [
    "# load multiple pages\n",
    "loader = WebBaseLoader([\"https://www.espn.com/\", \"https://python.langchain.com/docs/integrations/document_loaders/web_base/\"])\n",
    "documents = loader.load()\n",
    "documents[1].page_content"
   ]
  },
  {
   "cell_type": "markdown",
   "id": "30e4966edb571ed9",
   "metadata": {},
   "source": [
    "### Loading CSV files into Document objects"
   ]
  },
  {
   "cell_type": "code",
   "execution_count": 5,
   "id": "946a4aebb3184352",
   "metadata": {
    "ExecuteTime": {
     "end_time": "2024-10-25T05:14:13.466035Z",
     "start_time": "2024-10-25T05:14:13.279151Z"
    }
   },
   "outputs": [
    {
     "data": {
      "text/plain": [
       "18025"
      ]
     },
     "execution_count": 5,
     "metadata": {},
     "output_type": "execute_result"
    }
   ],
   "source": [
    "from langchain_community.document_loaders.csv_loader import CSVLoader\n",
    "\n",
    "loader = CSVLoader(file_path=\"Air_Quality.csv\", content_columns=[\"Name\"])\n",
    "documents = loader.load()\n",
    "len(documents)"
   ]
  },
  {
   "cell_type": "markdown",
   "id": "9d1f7854",
   "metadata": {},
   "source": [
    "### Loading PDFs"
   ]
  },
  {
   "cell_type": "code",
   "execution_count": 9,
   "id": "0081d907",
   "metadata": {},
   "outputs": [
    {
     "name": "stdout",
     "output_type": "stream",
     "text": [
      "Requirement already satisfied: pypdf in d:\\development\\ai\\retrievalaugmentedgen\\.venv\\lib\\site-packages (5.1.0)\n",
      "Note: you may need to restart the kernel to use updated packages.\n"
     ]
    },
    {
     "name": "stderr",
     "output_type": "stream",
     "text": [
      "\n",
      "[notice] A new release of pip is available: 23.2.1 -> 24.3.1\n",
      "[notice] To update, run: python.exe -m pip install --upgrade pip\n"
     ]
    },
    {
     "name": "stdout",
     "output_type": "stream",
     "text": [
      "number of pages:  468\n",
      "First 500 characters of first page:\n",
      "CHAPTER I.\n",
      "LOOMINGS\n",
      "Call me Ishmael. Some years ago—never mind how long precisely—having little\n",
      "or no money in my purse, and nothing particular to interest me on shore, I thought\n",
      "I would sail about a little and see the watery part of the world. It is a way I have\n",
      "of driving oﬀ the spleen, and regulating the circulation. Whenever I ﬁnd myself\n",
      "growing grim about the mouth; whenever it is a damp, drizzly November in my\n",
      "soul; whenever I ﬁnd myself involuntarily pausing before coﬃn warehouses, and\n",
      "br\n"
     ]
    }
   ],
   "source": [
    "%pip install pypdf\n",
    "\n",
    "# load moby dick into a langchain doc\n",
    "from langchain_community.document_loaders import PyPDFLoader\n",
    "\n",
    "loader = PyPDFLoader(\"moby-dick.pdf\")\n",
    "documents = loader.load()\n",
    "\n",
    "print(\"number of pages: \", len(documents))\n",
    "\n",
    "# Print first 500 characters of first page\n",
    "print(\"First 500 characters of first page:\")\n",
    "print(documents[7].page_content[:500])\n"
   ]
  },
  {
   "cell_type": "markdown",
   "id": "d4f12f7b1dd3d6d1",
   "metadata": {},
   "source": [
    "### Cleaning up the data after loading\n",
    "If you look at the page_content grabbed from a website or the text content grabbed from a file, you will see that it contains a lot of unwanted characters like newlines, tabs, etc."
   ]
  },
  {
   "cell_type": "code",
   "execution_count": 12,
   "id": "6ea04291a80079ca",
   "metadata": {
    "ExecuteTime": {
     "end_time": "2024-10-25T05:22:40.265368Z",
     "start_time": "2024-10-25T05:22:35.720896Z"
    }
   },
   "outputs": [
    {
     "name": "stdout",
     "output_type": "stream",
     "text": [
      "Note: you may need to restart the kernel to use updated packages.\n"
     ]
    },
    {
     "name": "stderr",
     "output_type": "stream",
     "text": [
      "\n",
      "[notice] A new release of pip is available: 23.2.1 -> 24.2\n",
      "[notice] To update, run: python.exe -m pip install --upgrade pip\n"
     ]
    }
   ],
   "source": [
    "%pip install --upgrade --quiet html2text"
   ]
  },
  {
   "cell_type": "code",
   "execution_count": 1,
   "id": "e996f165b1718e85",
   "metadata": {
    "ExecuteTime": {
     "end_time": "2024-10-25T05:26:30.368870Z",
     "start_time": "2024-10-25T05:26:30.170697Z"
    }
   },
   "outputs": [
    {
     "name": "stderr",
     "output_type": "stream",
     "text": [
      "USER_AGENT environment variable not set, consider setting it to identify your requests.\n",
      "d:\\Development\\AI\\retrievalAugmentedGen\\.venv\\Lib\\site-packages\\langchain_community\\document_loaders\\async_html.py:195: UserWarning: For better logging of progress, `pip install tqdm`\n",
      "  warnings.warn(\"For better logging of progress, `pip install tqdm`\")\n"
     ]
    },
    {
     "name": "stdout",
     "output_type": "stream",
     "text": [
      "Skip to main content  Skip to navigation\n",
      "\n",
      "<\n",
      "\n",
      ">\n",
      "\n",
      "Menu\n",
      "\n",
      "## ESPN\n",
      "\n",
      "  *   *   *   * scores\n",
      "\n",
      "  * NFL\n",
      "  * NBA\n",
      "  * NCAAF\n",
      "  * NHL\n",
      "  * NCAAM\n",
      "  * NCAAW\n",
      "  * Soccer\n",
      "  * More Sports\n",
      "\n",
      "    * Boxing\n",
      "    * CFL\n",
      "    * NCAA\n",
      "    * Cricket\n",
      "    * F1\n",
      "    * Gaming\n",
      "    * Golf\n",
      "    * Horse\n",
      "    * LLWS\n",
      "    * MLB\n",
      "    * MMA\n",
      "    * NASCAR\n",
      "    * NLL\n",
      "    * NBA G League\n",
      "    * NBA Summer League\n",
      "    * NWSL\n",
      "    * Olympics\n",
      "    * PLL\n",
      "    * Professional Wrestling\n",
      "    * Racing\n",
      "    * RN BB\n",
      "    * RN FB\n",
      "    * Rugby\n",
      "    * Sports Betting\n",
      "    * Tennis\n",
      "    * WNBA\n",
      "    * X Games\n",
      "    * UFL\n",
      "\n",
      "  * Editions\n",
      "  * Fantasy\n",
      "  * Watch\n",
      "  * ESPN BET\n",
      "  * ESPN+\n",
      "\n",
      "##\n",
      "\n",
      "  * Subscribe Now\n",
      "  * PGA TOUR LIVE\n",
      "\n",
      "  * Australian Open\n",
      "\n",
      "  * NHL\n",
      "\n",
      "  * NCAA Men's Basketball\n",
      "\n",
      "  * NCAA Women's Basketball\n",
      "\n",
      "## Quick Links\n",
      "\n",
      "  * NFL Playoff Bracket\n",
      "\n",
      "  * Unrivaled 3-on-3\n",
      "\n",
      "  * NBA Trade Machine\n",
      "\n",
      "  * MLB Free Agency\n",
      "\n",
      "  * Where To Watch\n",
      "\n",
      "  * Today's Top Odds\n",
      "\n",
      "  * ESPN Radio: Listen Live\n",
      "\n",
      "  * Australian Open Bracket\n",
      "\n",
      "## Favorites\n",
      "\n",
      "Manage Favorites\n",
      "\n",
      "## Customize ESPN\n",
      "\n",
      "Create AccountLog In\n",
      "\n",
      "## Fantasy\n",
      "\n",
      "  * Football\n",
      "\n",
      "  * Baseball\n",
      "\n",
      "  * Hockey\n",
      "\n",
      "  * Men's Basketball\n",
      "\n",
      "  * Women's Basketball\n",
      "\n",
      "## ESPN Sites\n",
      "\n",
      "  * ESPN Deportes\n",
      "\n",
      "  * Andscape\n",
      "\n",
      "  * espnW\n",
      "\n",
      "  * ESPNFC\n",
      "\n",
      "  * X Games\n",
      "\n",
      "  * SEC Network\n",
      "\n",
      "## ESPN Apps\n",
      "\n",
      "  * ESPN\n",
      "\n",
      "  * ESPN Fantasy\n",
      "\n",
      "  * Tournament Challenge\n",
      "\n",
      "## Follow ESPN\n",
      "\n",
      "  * Facebook\n",
      "\n",
      "  * X/Twitter\n",
      "\n",
      "  * Instagram\n",
      "\n",
      "  * Snapchat\n",
      "\n",
      "  * TikTok\n",
      "\n",
      "  * YouTube\n",
      "\n",
      "## Are the Dodgers ruining baseball? Inside the Roki Sasaki signing -- and a\n",
      "spending spree that has rocked MLB\n",
      "\n",
      "L.A.'s run of star additions has angered opposing fan bases and sounded alarms\n",
      "across the sport. But is the team or the system to blame?\n",
      "\n",
      "4hJeff Passan\n",
      "\n",
      "AP Photo/Damian Dovarganes\n",
      "\n",
      "## TOP HEADLINES\n",
      "\n",
      "  * Sources: Coen back talking to Jags after GM exit\n",
      "  * Braves sign outfielder Profar to 3-year, $42M deal\n",
      "  * Ichiro wants to have drink with lone HOF holdout\n",
      "  * Ravens' Andrews 'gutted' by critical drop vs. Bills\n",
      "  * Commanders on Barkley: 'Just try to contain him'\n",
      "\n",
      "  * Spoelstra to Heat on Butler's ban: 'Get over it'\n",
      "  * Sources: CB Diggs has surgery, faces long rehab\n",
      "  * SZA to join Lamar for SB halftime performance\n",
      "  * Kiper's debut NFL mock draft for 2025\n",
      "\n",
      "## AROUND THE ASSOCIATION\n",
      "\n",
      "## Why six NBA teams earned A's at midseason, and one got an F\n",
      "\n",
      "From some well-deserved A's to the F that no one saw coming in the preseason,\n",
      "let's take a look at all 30 teams' first-half grades.\n",
      "\n",
      "13hKevin Pelton\n",
      "\n",
      "Illustration by ESPN\n",
      "\n",
      "## How Jayson Tatum and the 2017 draft fuels the storied Celtics-Lakers\n",
      "rivalry\n",
      "\n",
      "Magic Johnson said Tatum refused to work out for the Lakers in '17. Tatum's\n",
      "camp says that isn't true.\n",
      "\n",
      "10hDave McMenamin\n",
      "\n",
      "  * Ranking the top rookies at midseason\n",
      "\n",
      "  * Latest Power Rankings\n",
      "\n",
      "## WEMBY WOWS IN PARIS\n",
      "\n",
      "### SPURS ROUT PACERS\n",
      "\n",
      "## Wemby dazzles with 30-point double-double\n",
      "\n",
      "3h\n",
      "\n",
      "1:56\n",
      "\n",
      "## NBA SCOREBOARD\n",
      "\n",
      "  * 📅 Full scoreboard\n",
      "\n",
      "  * Spurs, Pacers stay busy ahead of Paris Games\n",
      "\n",
      "## DESTINED FOR STARDOM\n",
      "\n",
      "## Poise, unreal game prep and poking a GOAT: How Washington knew Jayden\n",
      "Daniels was special from the start\n",
      "\n",
      "As early as the spring, Washington had a feeling the rookie QB would excel. By\n",
      "the end of training camp, the Commanders were sure.\n",
      "\n",
      "14hJohn Keim\n",
      "\n",
      "Perry Knotts/Getty Images\n",
      "\n",
      "## Barnwell: The greatest rookie seasons in NFL history, and why we might be\n",
      "watching No. 1\n",
      "\n",
      "How does Daniels' stellar rookie campaign stack up against the best ever?\n",
      "\n",
      "13hBill Barnwell\n",
      "\n",
      "  * 🏆 NFL playoff bracket\n",
      "\n",
      "## QBS IN THE SPOTLIGHT\n",
      "\n",
      "### NFL PLAYOFFS\n",
      "\n",
      "## This Jalen Hurts take has Stephen A. and Cam Newton at odds\n",
      "\n",
      "9h\n",
      "\n",
      "2:40\n",
      "\n",
      "## Orlovsky makes 'Rocky IV' comparison for Josh Allen vs. Chiefs\n",
      "\n",
      "11h\n",
      "\n",
      "2:14\n",
      "\n",
      "## FARMERS INSURANCE OPEN\n",
      "\n",
      "## Hideki Matsuyama 3-putts after dealing with wind issues on the green\n",
      "\n",
      "2h\n",
      "\n",
      "0:47\n",
      "\n",
      "  * How to watch the tournament: ESPN+ schedule\n",
      "\n",
      "  * PGA Tour storylines\n",
      "\n",
      "## AUSTRALIAN OPEN MEN'S SEMIS\n",
      "\n",
      "## Why each men's semifinalist can win the title\n",
      "\n",
      "And then there were four: Jannik Sinner, Novak Djokovic, Alexander Zverev and\n",
      "Ben Shelton. Here's how each can win the Australian Open.\n",
      "\n",
      "1dJake Michaels\n",
      "\n",
      "Mike Frey-Imagn Images\n",
      "\n",
      "  * 🏆 Men's singles bracket\n",
      "\n",
      "  * Two bets to make for the men's semifinals\n",
      "\n",
      "## COLLEGE FOOTBALL RUMBLINGS\n",
      "\n",
      "## Playoff play-in games? Seeding change? What we heard at the title game in\n",
      "Atlanta\n",
      "\n",
      "The 2024 college football season is over, but we're already hearing rumblings\n",
      "about what's next.\n",
      "\n",
      "13hHeather Dinich\n",
      "\n",
      "Rich von Biberstein/Icon Sportswire\n",
      "\n",
      "##  Top Headlines\n",
      "\n",
      "  * Sources: Coen back talking to Jags after GM exit\n",
      "  * Braves sign outfielder Profar to 3-year, $42M deal\n",
      "  * Ichiro wants to have drink with lone HOF holdout\n",
      "  * Ravens' Andrews 'gutted' by critical drop vs. Bills\n",
      "  * Commanders on Barkley: 'Just try to contain him'\n",
      "  * Spoelstra to Heat on Butler's ban: 'Get over it'\n",
      "  * Sources: CB Diggs has surgery, faces long rehab\n",
      "  * SZA to join Lamar for SB halftime performance\n",
      "  * Kiper's debut NFL mock draft for 2025\n",
      "\n",
      "## Favorites\n",
      "\n",
      "## Fantasy\n",
      "\n",
      "Manage FavoritesFantasy Home\n",
      "\n",
      "## Customize ESPN\n",
      "\n",
      "Create AccountLog In\n",
      "\n",
      "## ICYMI\n",
      "\n",
      "  * 0:19\n",
      "\n",
      "  * ## Day'Ron Sharpe accidentally scores in the wrong hoop\n",
      "\n",
      "Nets' Day'Ron Sharpe goes up for defensive rebound, but ends up putting the\n",
      "ball in the wrong hoop.\n",
      "\n",
      "## Best of ESPN+\n",
      "\n",
      "  * ESPN Illustration\n",
      "  * ## Shams Charania's Inside Pass: Trade buzz on Lakers, Bulls, rest of NBA\n",
      "\n",
      "Our NBA insider shares the latest intel on growing frustration in Los Angeles\n",
      "and the ever-developing Jimmy Butler situation.\n",
      "\n",
      "  * Photo by Nick Cammett/Getty Images\n",
      "  * ## NFL exec predictions: QB moves coming for Steelers, Raiders?\n",
      "\n",
      "Major quarterback moves in Pittsburgh and Vegas? Big trades involving star\n",
      "wide receivers? Execs help us look to the future.\n",
      "\n",
      "  * Mark J. Rebilas/Imagn Images\n",
      "  * ## CFP championship: Ohio State-Notre Dame takeaways, reactions\n",
      "\n",
      "With a mix of epic talent and tons of maturity, the Buckeyes opened the new\n",
      "CFP era with a title. And they just might do it all over again a year from\n",
      "now.\n",
      "\n",
      "  * Jared Silber/NHLI via Getty Images\n",
      "  * ## NHL Bubble Watch: Projecting playoff hopes for all 32 teams\n",
      "\n",
      "Past midseason, there is little clarity on which teams are playoff-bound. Here\n",
      "are projections for all 32 clubs, plus a deep look at goaltending.\n",
      "\n",
      "## Trending Now\n",
      "\n",
      "  * ESPN\n",
      "  * ## Ranking the top 100 college football players of the 2024-25 season\n",
      "\n",
      "We ranked the top 100 players of the 2024-25 season.\n",
      "\n",
      "  * AP Photo/Brett Coomer, File\n",
      "  * ## Baseball Hall of Fame 2025 results: Winner and losers\n",
      "\n",
      "The results are in! Our experts break down the highs and lows of the 2025 vote\n",
      "that made Ichiro Suzuki, CC Sabathia and Billy Wagner Hall of Famers.\n",
      "\n",
      "  * Adam Davis/EPA/Shutterstock\n",
      "  * ## How the Spurs paved the way for Victor Wembanyama's NBA career\n",
      "\n",
      "Before the Spurs drafted Wembanyama No. 1 in 2023, they selected a Frenchman\n",
      "named Tony Parker with the No. 28 pick in 2001.\n",
      "\n",
      "  * Scott Halleran/Getty Images\n",
      "  * ## Why Travis Kelce is everyone's favorite teammate\n",
      "\n",
      "From risking getting fined to consoling struggling teammates, the Kansas City\n",
      "Chiefs tight end has a side not many see.\n",
      "\n",
      "## Sign up for FREE!\n",
      "\n",
      "Create A LeagueJoin a Public LeagueReactivate a League\n",
      "\n",
      "Practice With a Mock Draft\n",
      "\n",
      "## Sign up for FREE!\n",
      "\n",
      "Create A LeagueJoin a Public LeagueReactivate a League\n",
      "\n",
      "Practice with a Mock Draft\n",
      "\n",
      "## Sign up to play the #1 Fantasy Baseball Game\n",
      "\n",
      "Reactivate A LeagueCreate A LeagueJoin a Public League\n",
      "\n",
      "Practice With a Mock Draft\n",
      "\n",
      "## ESPN+ on Disney+\n",
      "\n",
      "  * Mike Windle/Getty Images for ESPN\n",
      "  * ## How to watch ESPN+ on Disney+: Frequently asked questions\n",
      "\n",
      "Starting Dec. 4, ESPN+ will be available on Disney+. Check out how to watch\n",
      "NHL, MLB, Pat McAfee, 30 for 30s and other exciting events now.\n",
      "\n",
      "## Get a custom ESPN experience\n",
      "\n",
      "  *   * ## Enjoy the benefits of a personalized account\n",
      "\n",
      "Select your favorite leagues, teams and players and get the latest scores,\n",
      "news and updates that matter most to you.\n",
      "\n",
      "## ESPN+\n",
      "\n",
      "  * PGA TOUR LIVE\n",
      "\n",
      "  * Australian Open\n",
      "\n",
      "  * NHL\n",
      "\n",
      "  * NCAA Men's Basketball\n",
      "\n",
      "  * NCAA Women's Basketball\n",
      "\n",
      "## Quick Links\n",
      "\n",
      "  * NFL Playoff Bracket\n",
      "\n",
      "  * Unrivaled 3-on-3\n",
      "\n",
      "  * NBA Trade Machine\n",
      "\n",
      "  * MLB Free Agency\n",
      "\n",
      "  * Where To Watch\n",
      "\n",
      "  * Today's Top Odds\n",
      "\n",
      "  * ESPN Radio: Listen Live\n",
      "\n",
      "  * Australian Open Bracket\n",
      "\n",
      "## Fantasy\n",
      "\n",
      "  * Football\n",
      "\n",
      "  * Baseball\n",
      "\n",
      "  * Hockey\n",
      "\n",
      "  * Men's Basketball\n",
      "\n",
      "  * Women's Basketball\n",
      "\n",
      "## ESPN Sites\n",
      "\n",
      "  * ESPN Deportes\n",
      "\n",
      "  * Andscape\n",
      "\n",
      "  * espnW\n",
      "\n",
      "  * ESPNFC\n",
      "\n",
      "  * X Games\n",
      "\n",
      "  * SEC Network\n",
      "\n",
      "## ESPN Apps\n",
      "\n",
      "  * ESPN\n",
      "\n",
      "  * ESPN Fantasy\n",
      "\n",
      "  * Tournament Challenge\n",
      "\n",
      "## Follow ESPN\n",
      "\n",
      "  * Facebook\n",
      "\n",
      "  * X/Twitter\n",
      "\n",
      "  * Instagram\n",
      "\n",
      "  * Snapchat\n",
      "\n",
      "  * TikTok\n",
      "\n",
      "  * YouTube\n",
      "\n",
      "  * Terms of Use\n",
      "  * Privacy Policy\n",
      "  * Your US State Privacy Rights\n",
      "  * Children's Online Privacy Policy\n",
      "  * Interest-Based Ads\n",
      "  * About Nielsen Measurement\n",
      "  * Do Not Sell or Share My Personal Information\n",
      "  * Contact Us\n",
      "  * Disney Ad Sales Site\n",
      "  * Work for ESPN\n",
      "  * Corrections\n",
      "\n",
      "ESPN BET Sportsbook is owned and operated by PENN Entertainment, Inc. and its\n",
      "subsidiaries ('PENN'). ESPN BET is available in states where PENN is licensed\n",
      "to offer sports wagering. Must be 21+ to wager. If you or someone you know has\n",
      "a gambling problem and wants help, call 1-800-GAMBLER.\n",
      "\n",
      "Copyright: © 2025 ESPN Enterprises, Inc. All rights reserved.\n",
      "\n",
      "\n"
     ]
    }
   ],
   "source": [
    "from langchain_community.document_loaders import AsyncHtmlLoader\n",
    "from langchain_community.document_transformers import Html2TextTransformer\n",
    "\n",
    "loader = AsyncHtmlLoader([\"https://www.espn.com/\"])\n",
    "documents = loader.load()\n",
    "html2text = Html2TextTransformer()\n",
    "documents2 = html2text.transform_documents(documents)\n",
    "print(documents2[0].page_content)"
   ]
  },
  {
   "cell_type": "code",
   "execution_count": null,
   "id": "f0846c87363907d9",
   "metadata": {},
   "outputs": [],
   "source": []
  }
 ],
 "metadata": {
  "kernelspec": {
   "display_name": "venv",
   "language": "python",
   "name": "python3"
  },
  "language_info": {
   "codemirror_mode": {
    "name": "ipython",
    "version": 3
   },
   "file_extension": ".py",
   "mimetype": "text/x-python",
   "name": "python",
   "nbconvert_exporter": "python",
   "pygments_lexer": "ipython3",
   "version": "3.11.5"
  }
 },
 "nbformat": 4,
 "nbformat_minor": 5
}
