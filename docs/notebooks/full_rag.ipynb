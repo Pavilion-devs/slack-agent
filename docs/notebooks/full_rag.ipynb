{
 "cells": [
  {
   "cell_type": "markdown",
   "metadata": {},
   "source": [
    "# Now that we understand the indexing pipeline, we can \n",
    "# utilize our vector database to retrieve relevant documents\n",
    "# for a given query and use them to generate a response."
   ]
  },
  {
   "cell_type": "code",
   "execution_count": 1,
   "metadata": {},
   "outputs": [
    {
     "name": "stdout",
     "output_type": "stream",
     "text": [
      "Note: you may need to restart the kernel to use updated packages.\n"
     ]
    }
   ],
   "source": [
    "%pip install -qU langchain langchain_community langchain_huggingface langchain_openai"
   ]
  },
  {
   "cell_type": "code",
   "execution_count": 2,
   "metadata": {},
   "outputs": [
    {
     "name": "stdout",
     "output_type": "stream",
     "text": [
      "Note: you may need to restart the kernel to use updated packages.\n"
     ]
    }
   ],
   "source": [
    "# load the environment variables\n",
    "%pip install -qU python-dotenv\n",
    "\n",
    "from dotenv import load_dotenv\n",
    "import os\n",
    "\n",
    "# loads the .env file (if you have a global environment variable, you can skip this)\n",
    "load_dotenv()\n",
    "\n",
    "# lets just validate that we have the environment variable\n",
    "api_key = os.environ.get(\"OPENAI_API_KEY\")\n",
    "\n",
    "if not api_key:\n",
    "    raise ValueError(\"OPENAI_API_KEY is not set in the environment variables\")"
   ]
  },
  {
   "cell_type": "code",
   "execution_count": 3,
   "metadata": {},
   "outputs": [
    {
     "name": "stderr",
     "output_type": "stream",
     "text": [
      "USER_AGENT environment variable not set, consider setting it to identify your requests.\n",
      "d:\\Development\\AI\\retrievalAugmentedGen\\venv\\Lib\\site-packages\\tqdm\\auto.py:21: TqdmWarning: IProgress not found. Please update jupyter and ipywidgets. See https://ipywidgets.readthedocs.io/en/stable/user_install.html\n",
      "  from .autonotebook import tqdm as notebook_tqdm\n"
     ]
    }
   ],
   "source": [
    "from langchain_community.document_loaders import WebBaseLoader\n",
    "from langchain_text_splitters import RecursiveCharacterTextSplitter\n",
    "from langchain_huggingface import HuggingFaceEmbeddings\n",
    "from langchain_community.vectorstores import InMemoryVectorStore\n",
    "\n",
    "loader = WebBaseLoader(\"https://www.govinfo.gov/content/pkg/CDOC-110hdoc50/html/CDOC-110hdoc50.htm\")\n",
    "documents = loader.load()\n",
    "\n",
    "text_splitter = RecursiveCharacterTextSplitter(chunk_size=1000, chunk_overlap=200, separators=[\"\\n\\n\", \"\\n\", \" \", \"\"])\n",
    "chunks = text_splitter.split_documents(documents)\n",
    "embeddings = HuggingFaceEmbeddings(model_name=\"sentence-transformers/all-MiniLM-L6-v2\")\n",
    "vectorstore = InMemoryVectorStore.from_documents(chunks, embeddings)\n",
    "\n",
    "retriever = vectorstore.as_retriever()"
   ]
  },
  {
   "cell_type": "code",
   "execution_count": 5,
   "metadata": {},
   "outputs": [],
   "source": [
    "# setup the chat model and prompt template\n",
    "from langchain_openai import ChatOpenAI\n",
    "from langchain_core.prompts import ChatPromptTemplate\n",
    "\n",
    "llm = ChatOpenAI(model_name=\"gpt-4o\")\n",
    "\n",
    "prompt = ChatPromptTemplate.from_messages([\n",
    "    (\"system\", \"You are a helpful assistant that can answer questions about the US Constitution. Use the provided context to answer the question. IMPORTANT: If you are unsure of the answer, say 'I don't know' and don't make up an answer.\"),\n",
    "    (\"user\", \"Question: {question}\\nContext: {context}\")\n",
    "])\n",
    "\n",
    "chain = prompt | llm"
   ]
  },
  {
   "cell_type": "code",
   "execution_count": null,
   "metadata": {},
   "outputs": [
    {
     "name": "stdout",
     "output_type": "stream",
     "text": [
      "I don't know. The provided context does not include any information on current plans or proposals to change the US Constitution to establish term limits for senators. If such a proposal exists, it would usually be discussed in legislative records or through public announcements by lawmakers.\n"
     ]
    }
   ],
   "source": [
    "query = \"Is there any plans to change the US Constitution to allow for term limits on senators?\"\n",
    "\n",
    "# RETRIEVAL\n",
    "docs = retriever.invoke(query)\n",
    "docs_content = \"\\n\\n\".join(doc.page_content for doc in docs)\n",
    "\n",
    "# AUGMENTED + GENERATION\n",
    "response = chain.invoke({\"question\": query, \"context\": docs})\n",
    "\n",
    "print(response.content)"
   ]
  },
  {
   "cell_type": "code",
   "execution_count": 9,
   "metadata": {},
   "outputs": [
    {
     "name": "stdout",
     "output_type": "stream",
     "text": [
      "I don't know who the current president is based on the context provided. The documents you provided contain information about the powers, duties, and restrictions related to the presidency, but they do not specify who currently holds the office.\n",
      "The President of the United States, as outlined in the context provided, is designated as the Commander in Chief of the Army and Navy of the United States, and of the Militia of the several States when they are called into actual service of the United States. This role gives the President significant authority over military operations and decisions, although they do not have the power to declare war, which is reserved for Congress.\n",
      "The President has the power to grant reprieves and pardons for offenses against the United States, except in cases of impeachment. This means the President can forgive or lessen the punishment for federal crimes, but this power does not extend to impeachments.\n",
      "In the context of the United States Constitution, \"impeachment\" refers to the process by which a sitting government official, including the President, can be charged with misconduct. The House of Representatives has the sole power to impeach, which means to formally accuse an official of wrongdoing. Once the House impeaches an official, the Senate then holds a trial to determine whether to convict and remove the official from office.\n",
      "\n",
      "The document indicates that when the President is tried, the Chief Justice presides over the Senate trial. A conviction requires a two-thirds majority of the Senators present. The judgment in cases of impeachment can only result in removal from office and disqualification from holding further office, but the official may still be subject to legal indictment and punishment separate from the impeachment process itself.\n",
      "The president of the United States can be elected to the office no more than twice. This means a president can serve two four-year terms. If someone has served more than two years of a term to which someone else was elected, they can only be elected to the presidency once more.\n",
      "The context provided does not contain information about the term length for U.S. Senators. However, I can inform you that according to the U.S. Constitution, a U.S. Senator serves a term of six years. There are no limits on the number of terms a Senator may serve, allowing them to be re-elected indefinitely.\n"
     ]
    }
   ],
   "source": [
    "while True:\n",
    "    query = input(\"Enter a question: \")\n",
    "    if query == \"exit\":\n",
    "        break\n",
    "    docs = retriever.invoke(query)\n",
    "    response = chain.invoke({\"question\": query, \"context\": docs})\n",
    "    print(response.content)\n"
   ]
  }
 ],
 "metadata": {
  "kernelspec": {
   "display_name": "venv",
   "language": "python",
   "name": "python3"
  },
  "language_info": {
   "codemirror_mode": {
    "name": "ipython",
    "version": 3
   },
   "file_extension": ".py",
   "mimetype": "text/x-python",
   "name": "python",
   "nbconvert_exporter": "python",
   "pygments_lexer": "ipython3",
   "version": "3.11.5"
  }
 },
 "nbformat": 4,
 "nbformat_minor": 2
}
